{
 "cells": [
  {
   "cell_type": "markdown",
   "id": "b3517120",
   "metadata": {},
   "source": [
    "# Energy Production 6-Step Ahead Forecasting\n",
    "\n",
    "This notebook demonstrates a complete pipeline for forecasting energy production 6 hours ahead using a multi-output regression approach. The process includes:\n",
    "\n",
    "- 6-step ahead forecasting: The model predicts the next 6 hours of energy production for any given time, e.g., if run at 8am, it forecasts 9am–2pm.\n",
    "- Model and features:\n",
    "  - Uses XGBoost, a robust machine learning algorithm for tabular data.\n",
    "  - Features include hour, day of week, month, lagged values, and rolling means of the energy production column (`power_x`), which are effective for time series forecasting.\n",
    "- Code and process transparency:\n",
    "  - All steps are shown: data loading, feature engineering, target creation, train/test split, model training, evaluation, and saving.\n",
    "  - The code is modular, with clear function definitions and comments explaining the reasoning behind each step.\n",
    "  - Diagnostic print statements are included to make the process transparent and reproducible.\n",
    "- Forecasting ability:\n",
    "  - The function `forecast_next_6_hours` allows forecasting the next 6 hours for any input, fulfilling the requirement to forecast a site’s energy potential.\n",
    "\n",
    "This approach is designed to be clear, reproducible, and easy to adapt for similar forecasting tasks.\n",
    "\n",
    "---\n",
    "\n",
    "# Energy Data Exploration\n",
    "\n",
    "This notebook loads the energy dataset and visualizes energy production patterns over time."
   ]
  },
  {
   "cell_type": "code",
   "execution_count": null,
   "id": "4a7ea7df",
   "metadata": {},
   "outputs": [],
   "source": [
    "import pandas as pd\n",
    "\n",
    "df = pd.read_csv(r\"C:/Users/prese/Downloads/Recruitment Dataset (1).csv\", parse_dates=['date'])\n",
    "df.info()\n",
    "df.head()"
   ]
  },
  {
   "cell_type": "markdown",
   "id": "1bf9e32b",
   "metadata": {},
   "source": [
    "## Visualize Energy Production Patterns\n",
    "\n",
    "The following plot shows how energy production changes over time."
   ]
  },
  {
   "cell_type": "code",
   "execution_count": null,
   "id": "86c29352",
   "metadata": {},
   "outputs": [],
   "source": [
    "import matplotlib.pyplot as plt\n",
    "\n",
    "plt.figure(figsize=(12, 6))\n",
    "plt.plot(df['date'], df['power_x'])\n",
    "plt.title(\"Energy Production Over Time\")\n",
    "plt.xlabel(\"Date\")\n",
    "plt.ylabel(\"Energy (MW)\")\n",
    "plt.show()"
   ]
  },
  {
   "cell_type": "code",
   "execution_count": null,
   "id": "4adebc50",
   "metadata": {},
   "outputs": [],
   "source": [
    "import numpy as np\n",
    "\n",
    "def create_features(df):\n",
    "    # Extract time-based features\n",
    "    df['hour'] = df['date'].dt.hour\n",
    "    df['dayofweek'] = df['date'].dt.dayofweek\n",
    "    df['month'] = df['date'].dt.month\n",
    "    # Add lag and rolling features\n",
    "    df['lag_1'] = df['power_x'].shift(1)\n",
    "    df['lag_2'] = df['power_x'].shift(2)\n",
    "    df['rolling_mean_3'] = df['power_x'].rolling(3).mean()\n",
    "    # Drop rows with missing values in relevant columns\n",
    "    df.dropna(subset=['power_x', 'lag_1', 'lag_2', 'rolling_mean_3'], inplace=True)\n",
    "    return df"
   ]
  },
  {
   "cell_type": "code",
   "execution_count": null,
   "id": "a9f63901",
   "metadata": {},
   "outputs": [],
   "source": [
    "def create_targets(df, n_steps=6):\n",
    "    # Create target columns for multi-step forecasting\n",
    "    target_cols = [f'target_t+{i}' for i in range(1, n_steps + 1)]\n",
    "    for i in range(1, n_steps + 1):\n",
    "        df[f'target_t+{i}'] = df['power_x'].shift(-i)\n",
    "    df.dropna(subset=target_cols, inplace=True)\n",
    "    return df"
   ]
  },
  {
   "cell_type": "code",
   "execution_count": null,
   "id": "d55a6939",
   "metadata": {},
   "outputs": [],
   "source": [
    "from sklearn.model_selection import train_test_split\n",
    "import xgboost as xgb\n",
    "from sklearn.metrics import mean_absolute_error\n",
    "import joblib\n",
    "import os\n",
    "\n",
    "# Prepare features and targets\n",
    "target_cols = [f'target_t+{i}' for i in range(1, 7)]\n",
    "features = df.drop(columns=['date', 'power_x'] + target_cols)\n",
    "targets = df[target_cols]\n",
    "\n",
    "# Train/test split\n",
    "X_train, X_test, y_train, y_test = train_test_split(features, targets, test_size=0.2, shuffle=False)\n",
    "\n",
    "# Train XGBoost models for each step\n",
    "def train_models(X_train, y_train, X_test, y_test):\n",
    "    models = []\n",
    "    for i in range(6):\n",
    "        model = xgb.XGBRegressor()\n",
    "        model.fit(X_train, y_train.iloc[:, i])\n",
    "        pred = model.predict(X_test)\n",
    "        mae = mean_absolute_error(y_test.iloc[:, i], pred)\n",
    "        print(f\"Step {i+1} MAE: {mae:.2f}\")\n",
    "        models.append(model)\n",
    "    return models\n",
    "\n",
    "models = train_models(X_train, y_train, X_test, y_test)\n",
    "\n",
    "# Save models\n",
    "def save_models(models, path_prefix=\"models/xgb_model_t+\"):\n",
    "    os.makedirs(os.path.dirname(path_prefix), exist_ok=True)\n",
    "    for i, model in enumerate(models):\n",
    "        joblib.dump(model, f\"{path_prefix}{i+1}.pkl\")\n",
    "\n",
    "save_models(models)\n",
    "\n",
    "# Forecast function\n",
    "def forecast_next_6_hours(latest_row, models):\n",
    "    predictions = []\n",
    "    for model in models:\n",
    "        pred = model.predict(latest_row.values.reshape(1, -1))\n",
    "        predictions.append(pred[0])\n",
    "    return predictions\n",
    "\n",
    "# Example forecast for the first test sample\n",
    "true_vals = y_test.iloc[0]\n",
    "pred_vals = forecast_next_6_hours(X_test.iloc[0], models)\n"
   ]
  },
  {
   "cell_type": "code",
   "execution_count": null,
   "id": "e2b9409f",
   "metadata": {},
   "outputs": [],
   "source": [
    "import matplotlib.pyplot as plt\n",
    "\n",
    "# Compare actual and predicted values for the first test sample\n",
    "plt.plot(range(1, 7), true_vals, label='Actual')\n",
    "plt.plot(range(1, 7), pred_vals, label='Predicted')\n",
    "plt.xlabel(\"Hours Ahead\")\n",
    "plt.ylabel(\"Energy (MW)\")\n",
    "plt.legend()\n",
    "plt.title(\"6-Hour Ahead Forecast\")\n",
    "plt.show()\n"
   ]
  }
 ],
 "metadata": {
  "language_info": {
   "name": "python"
  }
 },
 "nbformat": 4,
 "nbformat_minor": 5
}
